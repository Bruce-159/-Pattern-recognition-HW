{
  "cells": [
    {
      "cell_type": "markdown",
      "metadata": {
        "id": "view-in-github",
        "colab_type": "text"
      },
      "source": [
        "<a href=\"https://colab.research.google.com/github/Bruce-159/-Pattern-recognition-HW/blob/main/HW03.ipynb\" target=\"_parent\"><img src=\"https://colab.research.google.com/assets/colab-badge.svg\" alt=\"Open In Colab\"/></a>"
      ]
    },
    {
      "cell_type": "code",
      "execution_count": 27,
      "id": "89191294",
      "metadata": {
        "colab": {
          "base_uri": "https://localhost:8080/"
        },
        "id": "89191294",
        "outputId": "fe6e957c-2b06-4616-cb1a-7579a9168b6b"
      },
      "outputs": [
        {
          "output_type": "stream",
          "name": "stdout",
          "text": [
            "tf.Tensor(\n",
            "[[1.]\n",
            " [1.]], shape=(2, 1), dtype=float32)\n",
            "tf.Tensor(\n",
            "[[0.]\n",
            " [0.]], shape=(2, 1), dtype=float32)\n"
          ]
        }
      ],
      "source": [
        "import tensorflow as tf\n",
        "x = tf.ones(shape=(2, 1))\n",
        "print(x)\n",
        "x = tf.zeros(shape=(2, 1))\n",
        "print(x)"
      ]
    },
    {
      "cell_type": "code",
      "execution_count": 28,
      "id": "687bfb38",
      "metadata": {
        "colab": {
          "base_uri": "https://localhost:8080/"
        },
        "id": "687bfb38",
        "outputId": "bbc71232-0738-4561-f3b7-84c5cfd32fab"
      },
      "outputs": [
        {
          "output_type": "stream",
          "name": "stdout",
          "text": [
            "tf.Tensor(\n",
            "[[ 0.04887278]\n",
            " [-0.75193083]\n",
            " [-0.98590314]], shape=(3, 1), dtype=float32)\n",
            "tf.Tensor(\n",
            "[[0.67591345]\n",
            " [0.11991429]\n",
            " [0.8748462 ]], shape=(3, 1), dtype=float32)\n"
          ]
        }
      ],
      "source": [
        "x = tf.random.normal(shape=(3, 1), mean=0., stddev=1.)\n",
        "print(x)\n",
        "x = tf.random.uniform(shape=(3, 1), minval=0., maxval=1.)\n",
        "print(x)"
      ]
    },
    {
      "cell_type": "code",
      "execution_count": 29,
      "id": "d1b2f251",
      "metadata": {
        "id": "d1b2f251"
      },
      "outputs": [],
      "source": [
        "import numpy as np\n",
        "x = np.ones(shape=(2, 2))\n",
        "x[0, 0] = 0."
      ]
    },
    {
      "cell_type": "code",
      "execution_count": 30,
      "id": "3fc0e76b",
      "metadata": {
        "colab": {
          "base_uri": "https://localhost:8080/"
        },
        "id": "3fc0e76b",
        "outputId": "f5ac9420-ef7a-4ef8-c4cd-f5bd1015fcfc"
      },
      "outputs": [
        {
          "output_type": "stream",
          "name": "stdout",
          "text": [
            "random tensor :\n",
            " <tf.Variable 'Variable:0' shape=(3, 1) dtype=float32, numpy=\n",
            "array([[1.02877  ],\n",
            "       [1.090465 ],\n",
            "       [2.3219416]], dtype=float32)>\n",
            "ones tensor :\n",
            " <tf.Variable 'Variable:0' shape=(3, 1) dtype=float32, numpy=\n",
            "array([[1.],\n",
            "       [1.],\n",
            "       [1.]], dtype=float32)>\n",
            "modify tensor[0,0]:\n",
            "<tf.Variable 'Variable:0' shape=(3, 1) dtype=float32, numpy=\n",
            "array([[3.],\n",
            "       [1.],\n",
            "       [1.]], dtype=float32)>\n",
            "add other tensor to v add(ones,v):\n",
            "<tf.Variable 'Variable:0' shape=(3, 1) dtype=float32, numpy=\n",
            "array([[4.],\n",
            "       [2.],\n",
            "       [2.]], dtype=float32)>\n"
          ]
        }
      ],
      "source": [
        "v = tf.Variable(initial_value=tf.random.normal(shape=(3, 1)))\n",
        "print(f'random tensor :\\n {v}')\n",
        "\n",
        "v.assign(tf.ones((3, 1)))\n",
        "print(f'ones tensor :\\n {v}')\n",
        "\n",
        "v[0, 0].assign(3.)\n",
        "print(f'modify tensor[0,0]:\\n{v}')\n",
        "\n",
        "v.assign_add(tf.ones((3, 1)))\n",
        "print(f'add other tensor to v add(ones,v):\\n{v}')"
      ]
    },
    {
      "cell_type": "code",
      "execution_count": 31,
      "id": "48dfe6a4",
      "metadata": {
        "colab": {
          "base_uri": "https://localhost:8080/"
        },
        "id": "48dfe6a4",
        "outputId": "a343b202-306a-4576-d279-d3388ede5276"
      },
      "outputs": [
        {
          "output_type": "stream",
          "name": "stdout",
          "text": [
            "a:[[1. 1.]\n",
            " [1. 1.]]\n",
            " b:[[1. 1.]\n",
            " [1. 1.]]\n",
            "c:[[1. 1.]\n",
            " [1. 1.]]\n",
            "d:[[2. 2.]\n",
            " [2. 2.]]\n",
            "e:[[4. 4.]\n",
            " [4. 4.]]\n"
          ]
        }
      ],
      "source": [
        "a = tf.ones((2, 2))\n",
        "b = tf.square(a)\n",
        "c = tf.sqrt(a)\n",
        "d = b + c\n",
        "e = tf.matmul(a, b) \n",
        "e *= 2 \n",
        "print(f'a:{a}\\n b:{b}\\nc:{c}\\nd:{d}\\ne:{e}')"
      ]
    },
    {
      "cell_type": "code",
      "execution_count": 32,
      "id": "cbdf2942",
      "metadata": {
        "colab": {
          "base_uri": "https://localhost:8080/"
        },
        "id": "cbdf2942",
        "outputId": "45386758-03dd-47ca-e970-cc22df987fe2"
      },
      "outputs": [
        {
          "output_type": "stream",
          "name": "stdout",
          "text": [
            "input:\n",
            "<tf.Variable 'Variable:0' shape=() dtype=float32, numpy=3.0>\n",
            " gradient:\n",
            "6.0\n"
          ]
        }
      ],
      "source": [
        "input_var = tf.Variable(initial_value=3.)\n",
        "with tf.GradientTape() as tape:\n",
        "    result = tf.square(input_var) \n",
        "gradient = tape.gradient(result, input_var)\n",
        "print(f'input:\\n{input_var}\\n gradient:\\n{gradient}')"
      ]
    },
    {
      "cell_type": "code",
      "execution_count": 33,
      "id": "9c2480e6",
      "metadata": {
        "colab": {
          "base_uri": "https://localhost:8080/"
        },
        "id": "9c2480e6",
        "outputId": "1c8b8e3c-506f-40c5-ba6a-a505f2356f14"
      },
      "outputs": [
        {
          "output_type": "execute_result",
          "data": {
            "text/plain": [
              "<tf.Tensor: shape=(), dtype=float32, numpy=6.0>"
            ]
          },
          "metadata": {},
          "execution_count": 33
        }
      ],
      "source": [
        "input_const = tf.constant(3.)\n",
        "with tf.GradientTape() as tape:\n",
        "   tape.watch(input_const)\n",
        "   result = tf.square(input_const)\n",
        "gradient = tape.gradient(result, input_const)\n",
        "gradient"
      ]
    },
    {
      "cell_type": "code",
      "execution_count": 34,
      "id": "c8d80d3a",
      "metadata": {
        "colab": {
          "base_uri": "https://localhost:8080/"
        },
        "id": "c8d80d3a",
        "outputId": "11bce9a4-df75-4520-8698-40f3117c63e4"
      },
      "outputs": [
        {
          "output_type": "execute_result",
          "data": {
            "text/plain": [
              "(<tf.Tensor: shape=(), dtype=float32, numpy=19.6>,\n",
              " <tf.Tensor: shape=(), dtype=float32, numpy=9.8>)"
            ]
          },
          "metadata": {},
          "execution_count": 34
        }
      ],
      "source": [
        "time = tf.Variable(2.)\n",
        "with tf.GradientTape() as outer_tape:\n",
        "    with tf.GradientTape() as inner_tape:\n",
        "        position =  4.9 * time ** 2\n",
        "    speed = inner_tape.gradient(position, time) \n",
        "acceleration = outer_tape.gradient(speed, time)\n",
        "speed,acceleration"
      ]
    },
    {
      "cell_type": "code",
      "execution_count": 35,
      "id": "fc1a804a",
      "metadata": {
        "colab": {
          "base_uri": "https://localhost:8080/"
        },
        "id": "fc1a804a",
        "outputId": "9676461b-8b88-441a-edac-fa59a462fb52"
      },
      "outputs": [
        {
          "output_type": "execute_result",
          "data": {
            "text/plain": [
              "((1000, 2), array([[0.27397996, 4.07209283],\n",
              "        [1.24364721, 3.22814056],\n",
              "        [1.49042573, 4.43232306],\n",
              "        ...,\n",
              "        [1.04027455, 2.77179277],\n",
              "        [1.03181527, 4.83345583],\n",
              "        [0.20318197, 2.83501896]]), array([[ 2.70484132, -0.25083887],\n",
              "        [ 2.89411918, -0.9700157 ],\n",
              "        [ 2.04477072, -0.8069171 ],\n",
              "        ...,\n",
              "        [ 1.99515471, -0.24309965],\n",
              "        [ 2.07136574, -0.96273627],\n",
              "        [ 4.19623989,  0.73909307]]))"
            ]
          },
          "metadata": {},
          "execution_count": 35
        }
      ],
      "source": [
        "num_samples_per_class = 1000\n",
        "negative_samples = np.random.multivariate_normal(\n",
        "    mean=[0, 3],\n",
        "    cov=[[1, 0.5],[0.5, 1]],\n",
        "    size=num_samples_per_class)\n",
        "positive_samples = np.random.multivariate_normal(\n",
        "    mean=[3, 0],\n",
        "    cov=[[1, 0.5],[0.5, 1]],\n",
        "    size=num_samples_per_class)\n",
        "negative_samples.shape,negative_samples,positive_samples"
      ]
    },
    {
      "cell_type": "code",
      "execution_count": 36,
      "id": "33ad5c2c",
      "metadata": {
        "colab": {
          "base_uri": "https://localhost:8080/"
        },
        "id": "33ad5c2c",
        "outputId": "cde29678-c514-4454-d544-0efc2f454e75"
      },
      "outputs": [
        {
          "output_type": "stream",
          "name": "stdout",
          "text": [
            "input size:(2000, 2)\n",
            "input data:[[ 0.27397996  4.072093  ]\n",
            " [ 1.2436472   3.2281406 ]\n",
            " [ 1.4904257   4.432323  ]\n",
            " ...\n",
            " [ 1.9951547  -0.24309966]\n",
            " [ 2.0713658  -0.96273625]\n",
            " [ 4.19624     0.73909307]]\n",
            "\n",
            "[[0.]\n",
            " [0.]\n",
            " [0.]\n",
            " ...\n",
            " [1.]\n",
            " [1.]\n",
            " [1.]]\n"
          ]
        }
      ],
      "source": [
        "inputs = np.vstack((negative_samples, positive_samples)).astype(np.float32)\n",
        "print(f'input size:{inputs.shape}\\ninput data:{inputs}\\n')\n",
        "targets = np.vstack((np.zeros((num_samples_per_class, 1), dtype=\"float32\"),\n",
        "                     np.ones((num_samples_per_class, 1), dtype=\"float32\")))\n",
        "print(targets)"
      ]
    },
    {
      "cell_type": "code",
      "execution_count": 37,
      "id": "45fbc575",
      "metadata": {
        "colab": {
          "base_uri": "https://localhost:8080/",
          "height": 265
        },
        "id": "45fbc575",
        "outputId": "d479ae50-9b84-4f6f-a2c2-e48a5fed463c"
      },
      "outputs": [
        {
          "output_type": "display_data",
          "data": {
            "text/plain": [
              "<Figure size 432x288 with 1 Axes>"
            ],
            "image/png": "[encoded data removed]"
          },
          "metadata": {
            "needs_background": "light"
          }
        }
      ],
      "source": [
        "import matplotlib.pyplot as plt\n",
        "plt.scatter(inputs[:, 0], inputs[:, 1], c=targets[:, 0])\n",
        "plt.show()"
      ]
    },
    {
      "cell_type": "code",
      "execution_count": 38,
      "id": "b3962bde",
      "metadata": {
        "colab": {
          "base_uri": "https://localhost:8080/"
        },
        "id": "b3962bde",
        "outputId": "aad4c2ec-3413-4f94-d315-6596b2be21db"
      },
      "outputs": [
        {
          "output_type": "execute_result",
          "data": {
            "text/plain": [
              "(TensorShape([1]), TensorShape([2, 1]))"
            ]
          },
          "metadata": {},
          "execution_count": 38
        }
      ],
      "source": [
        "\n",
        "input_dim = 2\n",
        "output_dim = 1\n",
        "W = tf.Variable(initial_value=tf.random.uniform(shape=(input_dim, output_dim)))\n",
        "b = tf.Variable(initial_value=tf.zeros(shape=(output_dim,)))\n",
        "c = tf.Variable(initial_value=tf.zeros(shape=(output_dim)))\n",
        "b.shape,W.shape"
      ]
    },
    {
      "cell_type": "code",
      "execution_count": 39,
      "id": "eb424fe2",
      "metadata": {
        "id": "eb424fe2"
      },
      "outputs": [],
      "source": [
        "\n",
        "def model(inputs):\n",
        "    return tf.matmul(inputs, W) + b\n",
        "\n",
        "def square_loss(targets, predictions):\n",
        "    per_sample_losses = tf.square(targets - predictions)\n",
        "    return tf.reduce_mean(per_sample_losses)\n",
        "\n",
        "learning_rate = 0.1\n",
        "\n",
        "def training_step(inputs, targets):\n",
        "    with tf.GradientTape() as tape:\n",
        "        predictions = model(inputs)\n",
        "        loss = square_loss(targets, predictions)\n",
        "    grad_loss_wrt_W, grad_loss_wrt_b = tape.gradient(loss, [W, b])\n",
        "    W.assign_sub(grad_loss_wrt_W * learning_rate)\n",
        "    b.assign_sub(grad_loss_wrt_b * learning_rate)\n",
        "    return loss\n"
      ]
    },
    {
      "cell_type": "code",
      "execution_count": 40,
      "id": "bad023fc",
      "metadata": {
        "colab": {
          "base_uri": "https://localhost:8080/",
          "height": 959
        },
        "id": "bad023fc",
        "outputId": "db08a3a0-4bca-4ed2-c9b8-273de84386d3"
      },
      "outputs": [
        {
          "output_type": "stream",
          "name": "stdout",
          "text": [
            "Loss at step 0: 5.2356\n",
            "Loss at step 1: 0.4924\n",
            "Loss at step 2: 0.1764\n",
            "Loss at step 3: 0.1235\n",
            "Loss at step 4: 0.1093\n",
            "Loss at step 5: 0.1014\n",
            "Loss at step 6: 0.0948\n",
            "Loss at step 7: 0.0889\n",
            "Loss at step 8: 0.0835\n",
            "Loss at step 9: 0.0785\n",
            "Loss at step 10: 0.0740\n",
            "Loss at step 11: 0.0699\n",
            "Loss at step 12: 0.0661\n",
            "Loss at step 13: 0.0626\n",
            "Loss at step 14: 0.0595\n",
            "Loss at step 15: 0.0566\n",
            "Loss at step 16: 0.0539\n",
            "Loss at step 17: 0.0515\n",
            "Loss at step 18: 0.0493\n",
            "Loss at step 19: 0.0472\n",
            "Loss at step 20: 0.0454\n",
            "Loss at step 21: 0.0437\n",
            "Loss at step 22: 0.0421\n",
            "Loss at step 23: 0.0407\n",
            "Loss at step 24: 0.0394\n",
            "Loss at step 25: 0.0382\n",
            "Loss at step 26: 0.0371\n",
            "Loss at step 27: 0.0361\n",
            "Loss at step 28: 0.0351\n",
            "Loss at step 29: 0.0343\n",
            "Loss at step 30: 0.0335\n",
            "Loss at step 31: 0.0328\n",
            "Loss at step 32: 0.0322\n",
            "Loss at step 33: 0.0316\n",
            "Loss at step 34: 0.0311\n",
            "Loss at step 35: 0.0306\n",
            "Loss at step 36: 0.0301\n",
            "Loss at step 37: 0.0297\n",
            "Loss at step 38: 0.0293\n",
            "Loss at step 39: 0.0290\n"
          ]
        },
        {
          "output_type": "display_data",
          "data": {
            "text/plain": [
              "<Figure size 432x288 with 1 Axes>"
            ],
            "image/png": "[encoded data removed]"
          },
          "metadata": {
            "needs_background": "light"
          }
        }
      ],
      "source": [
        "for step in range(40):\n",
        "    loss = training_step(inputs, targets)\n",
        "    print(f\"Loss at step {step}: {loss:.4f}\")\n",
        "\n",
        "predictions = model(inputs)\n",
        "plt.scatter(inputs[:, 0], inputs[:, 1], c=predictions[:, 0] > 0.5)\n",
        "plt.show()"
      ]
    },
    {
      "cell_type": "code",
      "execution_count": 41,
      "id": "dab9a5ee",
      "metadata": {
        "scrolled": true,
        "colab": {
          "base_uri": "https://localhost:8080/",
          "height": 282
        },
        "id": "dab9a5ee",
        "outputId": "20dd4b68-1d3d-423f-cc87-c0a32288e6f6"
      },
      "outputs": [
        {
          "output_type": "execute_result",
          "data": {
            "text/plain": [
              "<matplotlib.collections.PathCollection at 0x7f76f4929a10>"
            ]
          },
          "metadata": {},
          "execution_count": 41
        },
        {
          "output_type": "display_data",
          "data": {
            "text/plain": [
              "<Figure size 432x288 with 1 Axes>"
            ],
            "image/png": "[encoded data removed]"
          },
          "metadata": {
            "needs_background": "light"
          }
        }
      ],
      "source": [
        "x = np.linspace(-1, 4, 100)\n",
        "y = - W[0] /  W[1] * x + (0.5 - b) / W[1]\n",
        "plt.plot(x, y, \"-r\")\n",
        "plt.scatter(inputs[:, 0], inputs[:, 1], c=predictions[:, 0] > 0.5)"
      ]
    },
    {
      "cell_type": "code",
      "execution_count": 42,
      "id": "73059fbf",
      "metadata": {
        "id": "73059fbf"
      },
      "outputs": [],
      "source": [
        "from tensorflow import keras\n",
        "\n",
        "class SimpleDense(keras.layers.Layer):\n",
        "\n",
        "    def __init__(self, units, activation=None):\n",
        "        super().__init__()\n",
        "        self.units = units\n",
        "        self.activation = activation\n",
        "\n",
        "    def build(self, input_shape):\n",
        "        input_dim = input_shape[-1]\n",
        "        self.W = self.add_weight(shape=(input_dim, self.units),\n",
        "                                 initializer=\"random_normal\")\n",
        "        self.b = self.add_weight(shape=(self.units,),\n",
        "                                 initializer=\"zeros\")\n",
        "\n",
        "    def call(self, inputs):\n",
        "        y = tf.matmul(inputs, self.W) + self.b\n",
        "        if self.activation is not None:\n",
        "            y = self.activation(y)\n",
        "        return y"
      ]
    },
    {
      "cell_type": "code",
      "execution_count": 42,
      "id": "f5735170",
      "metadata": {
        "id": "f5735170"
      },
      "outputs": [],
      "source": []
    },
    {
      "cell_type": "code",
      "execution_count": 43,
      "id": "26605d66",
      "metadata": {
        "colab": {
          "base_uri": "https://localhost:8080/"
        },
        "id": "26605d66",
        "outputId": "62a029c3-2f43-42db-fae7-6aadf66b1af5"
      },
      "outputs": [
        {
          "output_type": "stream",
          "name": "stdout",
          "text": [
            "(2, 32)\n"
          ]
        }
      ],
      "source": [
        "my_dense = SimpleDense(units=32, activation=tf.nn.relu)\n",
        "input_tensor = tf.ones(shape=(2, 784))\n",
        "output_tensor = my_dense(input_tensor)\n",
        "print(output_tensor.shape)"
      ]
    },
    {
      "cell_type": "code",
      "execution_count": 44,
      "id": "b932cbee",
      "metadata": {
        "id": "b932cbee"
      },
      "outputs": [],
      "source": [
        "from tensorflow.keras import layers\n",
        "layer = layers.Dense(32, activation=\"relu\")\n",
        "from tensorflow.keras import models\n",
        "from tensorflow.keras import layers\n",
        "model = models.Sequential([\n",
        "    layers.Dense(32, activation=\"relu\"),\n",
        "    layers.Dense(32)\n",
        "])\n",
        "\n",
        "model = keras.Sequential([\n",
        "    SimpleDense(32, activation=\"relu\"),\n",
        "    SimpleDense(64, activation=\"relu\"),\n",
        "    SimpleDense(32, activation=\"relu\"),\n",
        "    SimpleDense(10, activation=\"softmax\")\n",
        "])"
      ]
    },
    {
      "cell_type": "code",
      "execution_count": 45,
      "id": "d985bbcf",
      "metadata": {
        "id": "d985bbcf"
      },
      "outputs": [],
      "source": [
        "model = keras.Sequential([keras.layers.Dense(1)])\n"
      ]
    },
    {
      "cell_type": "code",
      "execution_count": 46,
      "id": "ad430f3d",
      "metadata": {
        "id": "ad430f3d"
      },
      "outputs": [],
      "source": [
        "model.compile(optimizer=\"rmsprop\",\n",
        "              loss=\"mean_squared_error\",\n",
        "              metrics=[\"accuracy\"])"
      ]
    },
    {
      "cell_type": "code",
      "execution_count": 47,
      "id": "7a6bc756",
      "metadata": {
        "id": "7a6bc756"
      },
      "outputs": [],
      "source": [
        "\n",
        "model.compile(optimizer=keras.optimizers.RMSprop(),\n",
        "              loss=keras.losses.MeanSquaredError(),\n",
        "              metrics=[keras.metrics.BinaryAccuracy()])"
      ]
    },
    {
      "cell_type": "code",
      "execution_count": 48,
      "id": "d3f0628f",
      "metadata": {
        "colab": {
          "base_uri": "https://localhost:8080/"
        },
        "id": "d3f0628f",
        "outputId": "4cbb46c0-6f63-4b90-b41e-5432262380e6"
      },
      "outputs": [
        {
          "output_type": "stream",
          "name": "stdout",
          "text": [
            "Epoch 1/5\n",
            "16/16 [==============================] - 0s 2ms/step - loss: 6.2775 - binary_accuracy: 0.8250\n",
            "Epoch 2/5\n",
            "16/16 [==============================] - 0s 2ms/step - loss: 5.9883 - binary_accuracy: 0.8360\n",
            "Epoch 3/5\n",
            "16/16 [==============================] - 0s 2ms/step - loss: 5.7489 - binary_accuracy: 0.8465\n",
            "Epoch 4/5\n",
            "16/16 [==============================] - 0s 2ms/step - loss: 5.5220 - binary_accuracy: 0.8575\n",
            "Epoch 5/5\n",
            "16/16 [==============================] - 0s 2ms/step - loss: 5.3023 - binary_accuracy: 0.8645\n"
          ]
        },
        {
          "output_type": "execute_result",
          "data": {
            "text/plain": [
              "{'loss': [6.277489185333252,\n",
              "  5.98830509185791,\n",
              "  5.748870372772217,\n",
              "  5.522033214569092,\n",
              "  5.302313327789307],\n",
              " 'binary_accuracy': [0.824999988079071,\n",
              "  0.8360000252723694,\n",
              "  0.8464999794960022,\n",
              "  0.8575000166893005,\n",
              "  0.8644999861717224]}"
            ]
          },
          "metadata": {},
          "execution_count": 48
        }
      ],
      "source": [
        "history = model.fit(\n",
        "    inputs,\n",
        "    targets,\n",
        "    epochs=5,\n",
        "    batch_size=128\n",
        ")\n",
        "history.history"
      ]
    },
    {
      "cell_type": "code",
      "execution_count": 49,
      "id": "1ecd7ce1",
      "metadata": {
        "colab": {
          "base_uri": "https://localhost:8080/"
        },
        "id": "1ecd7ce1",
        "outputId": "b1b64bbc-2e21-4fa0-d88f-71e9df540148"
      },
      "outputs": [
        {
          "output_type": "stream",
          "name": "stdout",
          "text": [
            "Epoch 1/5\n",
            "88/88 [==============================] - 1s 4ms/step - loss: 0.3333 - binary_accuracy: 0.8857 - val_loss: 0.0603 - val_binary_accuracy: 1.0000\n",
            "Epoch 2/5\n",
            "88/88 [==============================] - 0s 3ms/step - loss: 0.0713 - binary_accuracy: 0.9571 - val_loss: 0.0353 - val_binary_accuracy: 0.9917\n",
            "Epoch 3/5\n",
            "88/88 [==============================] - 0s 3ms/step - loss: 0.0723 - binary_accuracy: 0.9529 - val_loss: 0.0291 - val_binary_accuracy: 0.9983\n",
            "Epoch 4/5\n",
            "88/88 [==============================] - 0s 2ms/step - loss: 0.0760 - binary_accuracy: 0.9543 - val_loss: 0.0275 - val_binary_accuracy: 0.9967\n",
            "Epoch 5/5\n",
            "88/88 [==============================] - 0s 3ms/step - loss: 0.0746 - binary_accuracy: 0.9500 - val_loss: 0.0410 - val_binary_accuracy: 1.0000\n"
          ]
        },
        {
          "output_type": "execute_result",
          "data": {
            "text/plain": [
              "<keras.callbacks.History at 0x7f76f4a10350>"
            ]
          },
          "metadata": {},
          "execution_count": 49
        }
      ],
      "source": [
        "\n",
        "model = keras.Sequential([keras.layers.Dense(1)])\n",
        "model.compile(optimizer=keras.optimizers.RMSprop(learning_rate=0.1),\n",
        "              loss=keras.losses.MeanSquaredError(),\n",
        "              metrics=[keras.metrics.BinaryAccuracy()])\n",
        "\n",
        "indices_permutation = np.random.permutation(len(inputs))\n",
        "shuffled_inputs = inputs[indices_permutation]\n",
        "shuffled_targets = targets[indices_permutation]\n",
        "\n",
        "num_validation_samples = int(0.3 * len(inputs))\n",
        "val_inputs = shuffled_inputs[:num_validation_samples]\n",
        "val_targets = shuffled_targets[:num_validation_samples]\n",
        "training_inputs = shuffled_inputs[num_validation_samples:]\n",
        "training_targets = shuffled_targets[num_validation_samples:]\n",
        "model.fit(\n",
        "    training_inputs,\n",
        "    training_targets,\n",
        "    epochs=5,\n",
        "    batch_size=16,\n",
        "    validation_data=(val_inputs, val_targets)\n",
        ")"
      ]
    },
    {
      "cell_type": "code",
      "execution_count": 50,
      "id": "479166ef",
      "metadata": {
        "colab": {
          "base_uri": "https://localhost:8080/"
        },
        "id": "479166ef",
        "outputId": "2d801326-2d67-4a83-8a8f-07d0281e461b"
      },
      "outputs": [
        {
          "output_type": "stream",
          "name": "stdout",
          "text": [
            "[[ 0.82232046]\n",
            " [-0.0089654 ]\n",
            " [ 0.01804268]\n",
            " [-0.03286985]\n",
            " [-0.14771065]\n",
            " [-0.00198057]\n",
            " [ 1.3792003 ]\n",
            " [-0.32696125]\n",
            " [ 1.0510827 ]\n",
            " [ 0.9038239 ]]\n"
          ]
        }
      ],
      "source": [
        "predictions = model.predict(val_inputs, batch_size=128)\n",
        "print(predictions[:10])"
      ]
    },
    {
      "cell_type": "code",
      "execution_count": 51,
      "id": "fa5ea29d",
      "metadata": {
        "colab": {
          "base_uri": "https://localhost:8080/",
          "height": 392
        },
        "id": "fa5ea29d",
        "outputId": "5bfbe09b-18fc-4050-b734-371fc23f1769"
      },
      "outputs": [
        {
          "output_type": "stream",
          "name": "stdout",
          "text": [
            "Model: \"sequential_7\"\n",
            "_________________________________________________________________\n",
            " Layer (type)                Output Shape              Param #   \n",
            "=================================================================\n",
            " dense_9 (Dense)             (None, 1)                 3         \n",
            "                                                                 \n",
            "=================================================================\n",
            "Total params: 3\n",
            "Trainable params: 3\n",
            "Non-trainable params: 0\n",
            "_________________________________________________________________\n"
          ]
        },
        {
          "output_type": "execute_result",
          "data": {
            "image/png": "[encoded data removed]",
            "text/plain": [
              "<IPython.core.display.Image object>"
            ]
          },
          "metadata": {},
          "execution_count": 51
        }
      ],
      "source": [
        "from tensorflow.keras.utils import plot_model\n",
        "model.summary()\n",
        "\n",
        "plot_model(model, \n",
        "    show_shapes= True,\n",
        "    expand_nested=True\n",
        ")"
      ]
    },
    {
      "cell_type": "code",
      "execution_count": 51,
      "id": "2bbb3c5d",
      "metadata": {
        "id": "2bbb3c5d"
      },
      "outputs": [],
      "source": []
    },
    {
      "cell_type": "code",
      "execution_count": 51,
      "id": "939b7eee",
      "metadata": {
        "id": "939b7eee"
      },
      "outputs": [],
      "source": []
    },
    {
      "cell_type": "code",
      "execution_count": 51,
      "id": "599f95c8",
      "metadata": {
        "id": "599f95c8"
      },
      "outputs": [],
      "source": []
    }
  ],
  "metadata": {
    "kernelspec": {
      "display_name": "Python 3 (ipykernel)",
      "language": "python",
      "name": "python3"
    },
    "language_info": {
      "codemirror_mode": {
        "name": "ipython",
        "version": 3
      },
      "file_extension": ".py",
      "mimetype": "text/x-python",
      "name": "python",
      "nbconvert_exporter": "python",
      "pygments_lexer": "ipython3",
      "version": "3.9.7"
    },
    "colab": {
      "provenance": [],
      "include_colab_link": true
    }
  },
  "nbformat": 4,
  "nbformat_minor": 5
}
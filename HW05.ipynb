{
  "cells": [
    {
      "cell_type": "markdown",
      "metadata": {
        "id": "view-in-github",
        "colab_type": "text"
      },
      "source": [
        "<a href=\"https://colab.research.google.com/github/Bruce-159/-Pattern-recognition-HW/blob/main/HW05.ipynb\" target=\"_parent\"><img src=\"https://colab.research.google.com/assets/colab-badge.svg\" alt=\"Open In Colab\"/></a>"
      ]
    },
    {
      "cell_type": "code",
      "execution_count": 1,
      "id": "69414803-8651-4189-a659-4528bf0ad2e2",
      "metadata": {
        "colab": {
          "base_uri": "https://localhost:8080/"
        },
        "id": "69414803-8651-4189-a659-4528bf0ad2e2",
        "outputId": "d9dfa787-2902-4ebd-d2bd-b8927a67fbf1"
      },
      "outputs": [
        {
          "output_type": "stream",
          "name": "stdout",
          "text": [
            "Downloading data from https://storage.googleapis.com/tensorflow/tf-keras-datasets/mnist.npz\n",
            "11490434/11490434 [==============================] - 0s 0us/step\n"
          ]
        }
      ],
      "source": [
        "from tensorflow.keras.datasets import mnist\n",
        "import numpy as np\n",
        "\n",
        "(train_images, train_labels), _ = mnist.load_data()\n",
        "train_images = train_images.reshape((60000, 28 * 28))\n",
        "train_images = train_images.astype(\"float32\") / 255\n",
        "\n",
        "train_images_with_noise_channels = np.concatenate(\n",
        "    [train_images, np.random.random((len(train_images), 784))], axis=1)\n",
        "\n",
        "train_images_with_zeros_channels = np.concatenate(\n",
        "    [train_images, np.zeros((len(train_images), 784))], axis=1)"
      ]
    },
    {
      "cell_type": "code",
      "execution_count": 2,
      "id": "4dd6e89a-320a-442c-b187-7e5e3a59b2a6",
      "metadata": {
        "colab": {
          "base_uri": "https://localhost:8080/"
        },
        "id": "4dd6e89a-320a-442c-b187-7e5e3a59b2a6",
        "outputId": "b5f4c2b2-f126-4eb6-e48c-4a41cb11d028"
      },
      "outputs": [
        {
          "output_type": "stream",
          "name": "stdout",
          "text": [
            "Epoch 1/2\n",
            "375/375 [==============================] - 13s 31ms/step - loss: 0.6130 - accuracy: 0.8162 - val_loss: 0.2645 - val_accuracy: 0.9195\n",
            "Epoch 2/2\n",
            "375/375 [==============================] - 7s 19ms/step - loss: 0.2486 - accuracy: 0.9220 - val_loss: 0.1774 - val_accuracy: 0.9477\n",
            "Epoch 1/2\n",
            "375/375 [==============================] - 8s 20ms/step - loss: 0.2853 - accuracy: 0.9175 - val_loss: 0.1443 - val_accuracy: 0.9579\n",
            "Epoch 2/2\n",
            "375/375 [==============================] - 7s 19ms/step - loss: 0.1189 - accuracy: 0.9645 - val_loss: 0.1074 - val_accuracy: 0.9682\n"
          ]
        }
      ],
      "source": [
        "from tensorflow import keras\n",
        "from tensorflow.keras import layers\n",
        "\n",
        "def get_model():\n",
        "    model = keras.Sequential([\n",
        "        layers.Dense(512, activation=\"relu\"),\n",
        "        layers.Dense(10, activation=\"softmax\")\n",
        "    ])\n",
        "    model.compile(optimizer=\"rmsprop\",\n",
        "                  loss=\"sparse_categorical_crossentropy\",\n",
        "                  metrics=[\"accuracy\"])\n",
        "    return model\n",
        "\n",
        "model = get_model()\n",
        "history_noise = model.fit(\n",
        "    train_images_with_noise_channels, train_labels,\n",
        "    epochs=2,\n",
        "    batch_size=128,\n",
        "    validation_split=0.2)\n",
        "\n",
        "model = get_model()\n",
        "history_zeros = model.fit(\n",
        "    train_images_with_zeros_channels, train_labels,\n",
        "    epochs=2,\n",
        "    batch_size=128,\n",
        "    validation_split=0.2)"
      ]
    },
    {
      "cell_type": "code",
      "execution_count": 3,
      "id": "27bfd9c6-bce8-4f02-9e82-5d90f390841b",
      "metadata": {
        "colab": {
          "base_uri": "https://localhost:8080/",
          "height": 312
        },
        "id": "27bfd9c6-bce8-4f02-9e82-5d90f390841b",
        "outputId": "87b2f826-d94e-4048-dd36-63206f2bf4f8"
      },
      "outputs": [
        {
          "output_type": "execute_result",
          "data": {
            "text/plain": [
              "<matplotlib.legend.Legend at 0x7fd56dbcce10>"
            ]
          },
          "metadata": {},
          "execution_count": 3
        },
        {
          "output_type": "display_data",
          "data": {
            "text/plain": [
              "<Figure size 432x288 with 1 Axes>"
            ],
            "image/png": "[encoded data removed]"
          },
          "metadata": {
            "needs_background": "light"
          }
        }
      ],
      "source": [
        "import matplotlib.pyplot as plt\n",
        "val_acc_noise = history_noise.history[\"val_accuracy\"]\n",
        "val_acc_zeros = history_zeros.history[\"val_accuracy\"]\n",
        "epochs = range(1,3)\n",
        "plt.plot(epochs, val_acc_noise, \"b-\",\n",
        "         label=\"Validation accuracy with noise channels\")\n",
        "plt.plot(epochs, val_acc_zeros, \"b--\",\n",
        "         label=\"Validation accuracy with zeros channels\")\n",
        "plt.title(\"Effect of noise channels on validation accuracy\")\n",
        "plt.xlabel(\"Epochs\")\n",
        "plt.ylabel(\"Accuracy\")\n",
        "plt.legend()"
      ]
    },
    {
      "cell_type": "code",
      "execution_count": 4,
      "id": "2b7436c7-c162-48b9-8881-cb65d1800406",
      "metadata": {
        "colab": {
          "base_uri": "https://localhost:8080/"
        },
        "id": "2b7436c7-c162-48b9-8881-cb65d1800406",
        "outputId": "f2c7ff0a-3d4c-41a7-9695-0a6b0d42fcda"
      },
      "outputs": [
        {
          "output_type": "stream",
          "name": "stdout",
          "text": [
            "Epoch 1/2\n",
            "375/375 [==============================] - 5s 12ms/step - loss: 2.3162 - accuracy: 0.1015 - val_loss: 2.3067 - val_accuracy: 0.1047\n",
            "Epoch 2/2\n",
            "375/375 [==============================] - 4s 12ms/step - loss: 2.3002 - accuracy: 0.1180 - val_loss: 2.3132 - val_accuracy: 0.1077\n"
          ]
        },
        {
          "output_type": "execute_result",
          "data": {
            "text/plain": [
              "<keras.callbacks.History at 0x7fd56d64da10>"
            ]
          },
          "metadata": {},
          "execution_count": 4
        }
      ],
      "source": [
        "(train_images, train_labels), _ = mnist.load_data()\n",
        "train_images = train_images.reshape((60000, 28 * 28))\n",
        "train_images = train_images.astype(\"float32\") / 255\n",
        "\n",
        "random_train_labels = train_labels[:]\n",
        "np.random.shuffle(random_train_labels)\n",
        "\n",
        "model = keras.Sequential([\n",
        "    layers.Dense(512, activation=\"relu\"),\n",
        "    layers.Dense(10, activation=\"softmax\")\n",
        "])\n",
        "model.compile(optimizer=\"rmsprop\",\n",
        "              loss=\"sparse_categorical_crossentropy\",\n",
        "              metrics=[\"accuracy\"])\n",
        "model.fit(train_images, random_train_labels,\n",
        "          epochs=2,\n",
        "          batch_size=128,\n",
        "          validation_split=0.2)"
      ]
    },
    {
      "cell_type": "code",
      "execution_count": 5,
      "id": "fba31d3d-c363-4b5f-8a54-c4cc59ae9310",
      "metadata": {
        "colab": {
          "base_uri": "https://localhost:8080/"
        },
        "id": "fba31d3d-c363-4b5f-8a54-c4cc59ae9310",
        "outputId": "910f322c-cdb2-4793-83df-b0aaf4c5c53a"
      },
      "outputs": [
        {
          "output_type": "stream",
          "name": "stdout",
          "text": [
            "Epoch 1/2\n",
            "375/375 [==============================] - 5s 13ms/step - loss: 1017.9267 - accuracy: 0.3754 - val_loss: 2.4301 - val_accuracy: 0.3128\n",
            "Epoch 2/2\n",
            "375/375 [==============================] - 5s 12ms/step - loss: 4.2263 - accuracy: 0.2825 - val_loss: 2.7285 - val_accuracy: 0.2651\n"
          ]
        },
        {
          "output_type": "execute_result",
          "data": {
            "text/plain": [
              "<keras.callbacks.History at 0x7fd56b251e10>"
            ]
          },
          "metadata": {},
          "execution_count": 5
        }
      ],
      "source": [
        "(train_images, train_labels), _ = mnist.load_data()\n",
        "train_images = train_images.reshape((60000, 28 * 28))\n",
        "train_images = train_images.astype(\"float32\") / 255\n",
        "\n",
        "model = keras.Sequential([\n",
        "    layers.Dense(512, activation=\"relu\"),\n",
        "    layers.Dense(10, activation=\"softmax\")\n",
        "])\n",
        "model.compile(optimizer=keras.optimizers.RMSprop(1.),\n",
        "              loss=\"sparse_categorical_crossentropy\",\n",
        "              metrics=[\"accuracy\"])\n",
        "model.fit(train_images, train_labels,\n",
        "          epochs=2,\n",
        "          batch_size=128,\n",
        "          validation_split=0.2)"
      ]
    },
    {
      "cell_type": "code",
      "execution_count": 6,
      "id": "fc0ce6c7-fa5b-4fb8-902b-e1468a9e9112",
      "metadata": {
        "colab": {
          "base_uri": "https://localhost:8080/"
        },
        "id": "fc0ce6c7-fa5b-4fb8-902b-e1468a9e9112",
        "outputId": "12dce1d5-7472-4ec8-dc3c-77eadb655dc7"
      },
      "outputs": [
        {
          "output_type": "stream",
          "name": "stdout",
          "text": [
            "Epoch 1/2\n",
            "375/375 [==============================] - 5s 12ms/step - loss: 0.3714 - accuracy: 0.9101 - val_loss: 0.1559 - val_accuracy: 0.9583\n",
            "Epoch 2/2\n",
            "375/375 [==============================] - 4s 12ms/step - loss: 0.1440 - accuracy: 0.9628 - val_loss: 0.1618 - val_accuracy: 0.9661\n"
          ]
        },
        {
          "output_type": "execute_result",
          "data": {
            "text/plain": [
              "<keras.callbacks.History at 0x7fd56c33bd50>"
            ]
          },
          "metadata": {},
          "execution_count": 6
        }
      ],
      "source": [
        "model = keras.Sequential([\n",
        "    layers.Dense(512, activation=\"relu\"),\n",
        "    layers.Dense(10, activation=\"softmax\")\n",
        "])\n",
        "model.compile(optimizer=keras.optimizers.RMSprop(1e-2),\n",
        "              loss=\"sparse_categorical_crossentropy\",\n",
        "              metrics=[\"accuracy\"])\n",
        "model.fit(train_images, train_labels,\n",
        "          epochs=2,\n",
        "          batch_size=128,\n",
        "          validation_split=0.2)"
      ]
    },
    {
      "cell_type": "code",
      "execution_count": 7,
      "id": "a919e4f1-2582-48b5-90be-b5a6a0aeadd1",
      "metadata": {
        "colab": {
          "base_uri": "https://localhost:8080/"
        },
        "id": "a919e4f1-2582-48b5-90be-b5a6a0aeadd1",
        "outputId": "cbc82231-7fbb-4158-8ef9-9aed230954d9"
      },
      "outputs": [
        {
          "output_type": "stream",
          "name": "stdout",
          "text": [
            "Epoch 1/2\n",
            "375/375 [==============================] - 2s 3ms/step - loss: 0.6663 - accuracy: 0.8390 - val_loss: 0.3573 - val_accuracy: 0.9061\n",
            "Epoch 2/2\n",
            "375/375 [==============================] - 1s 3ms/step - loss: 0.3512 - accuracy: 0.9040 - val_loss: 0.3088 - val_accuracy: 0.9148\n"
          ]
        }
      ],
      "source": [
        "model = keras.Sequential([layers.Dense(10, activation=\"softmax\")])\n",
        "model.compile(optimizer=\"rmsprop\",\n",
        "              loss=\"sparse_categorical_crossentropy\",\n",
        "              metrics=[\"accuracy\"])\n",
        "history_small_model = model.fit(\n",
        "    train_images, train_labels,\n",
        "    epochs=2,\n",
        "    batch_size=128,\n",
        "    validation_split=0.2)"
      ]
    },
    {
      "cell_type": "code",
      "execution_count": 8,
      "id": "469fb3e7-e4a4-42ce-8199-33c82967731d",
      "metadata": {
        "colab": {
          "base_uri": "https://localhost:8080/",
          "height": 312
        },
        "id": "469fb3e7-e4a4-42ce-8199-33c82967731d",
        "outputId": "f2479554-43b7-471e-c074-209bae5c47f2"
      },
      "outputs": [
        {
          "output_type": "execute_result",
          "data": {
            "text/plain": [
              "<matplotlib.legend.Legend at 0x7fd56af89290>"
            ]
          },
          "metadata": {},
          "execution_count": 8
        },
        {
          "output_type": "display_data",
          "data": {
            "text/plain": [
              "<Figure size 432x288 with 1 Axes>"
            ],
            "image/png": "[encoded data removed]"
          },
          "metadata": {
            "needs_background": "light"
          }
        }
      ],
      "source": [
        "import matplotlib.pyplot as plt\n",
        "val_loss = history_small_model.history[\"val_loss\"]\n",
        "epochs = range(1,3)\n",
        "plt.plot(epochs, val_loss, \"b--\",\n",
        "         label=\"Validation loss\")\n",
        "plt.title(\"Effect of insufficient model capacity on validation loss\")\n",
        "plt.xlabel(\"Epochs\")\n",
        "plt.ylabel(\"Loss\")\n",
        "plt.legend()"
      ]
    },
    {
      "cell_type": "code",
      "execution_count": 9,
      "id": "207183b8-9d17-458c-8d0d-d4f0e9602e53",
      "metadata": {
        "colab": {
          "base_uri": "https://localhost:8080/"
        },
        "id": "207183b8-9d17-458c-8d0d-d4f0e9602e53",
        "outputId": "d439c2ce-3f24-4eab-8ee0-60898f56f64d"
      },
      "outputs": [
        {
          "output_type": "stream",
          "name": "stdout",
          "text": [
            "Epoch 1/2\n",
            "375/375 [==============================] - 3s 6ms/step - loss: 0.3750 - accuracy: 0.8924 - val_loss: 0.1963 - val_accuracy: 0.9434\n",
            "Epoch 2/2\n",
            "375/375 [==============================] - 2s 6ms/step - loss: 0.1650 - accuracy: 0.9512 - val_loss: 0.1466 - val_accuracy: 0.9553\n"
          ]
        }
      ],
      "source": [
        "model = keras.Sequential([\n",
        "    layers.Dense(96, activation=\"relu\"),\n",
        "    layers.Dense(96, activation=\"relu\"),\n",
        "    layers.Dense(10, activation=\"softmax\"),\n",
        "])\n",
        "model.compile(optimizer=\"rmsprop\",\n",
        "              loss=\"sparse_categorical_crossentropy\",\n",
        "              metrics=[\"accuracy\"])\n",
        "history_large_model = model.fit(\n",
        "    train_images, train_labels,\n",
        "    epochs=2,\n",
        "    batch_size=128,\n",
        "    validation_split=0.2)"
      ]
    },
    {
      "cell_type": "code",
      "execution_count": 10,
      "id": "e494d42b-9cad-4fc3-96a9-462f8a328e43",
      "metadata": {
        "colab": {
          "base_uri": "https://localhost:8080/"
        },
        "id": "e494d42b-9cad-4fc3-96a9-462f8a328e43",
        "outputId": "ed303018-dce3-44d1-e88c-77982db7c314"
      },
      "outputs": [
        {
          "output_type": "stream",
          "name": "stdout",
          "text": [
            "Downloading data from https://storage.googleapis.com/tensorflow/tf-keras-datasets/imdb.npz\n",
            "17464789/17464789 [==============================] - 0s 0us/step\n",
            "Epoch 1/2\n",
            "30/30 [==============================] - 2s 48ms/step - loss: 0.5215 - accuracy: 0.7862 - val_loss: 0.3956 - val_accuracy: 0.8664\n",
            "Epoch 2/2\n",
            "30/30 [==============================] - 1s 34ms/step - loss: 0.3169 - accuracy: 0.8969 - val_loss: 0.3053 - val_accuracy: 0.8900\n"
          ]
        }
      ],
      "source": [
        "from tensorflow.keras.datasets import imdb\n",
        "(train_data, train_labels), _ = imdb.load_data(num_words=10000)\n",
        "\n",
        "def vectorize_sequences(sequences, dimension=10000):\n",
        "    results = np.zeros((len(sequences), dimension))\n",
        "    for i, sequence in enumerate(sequences):\n",
        "        results[i, sequence] = 1.\n",
        "    return results\n",
        "train_data = vectorize_sequences(train_data)\n",
        "\n",
        "model = keras.Sequential([\n",
        "    layers.Dense(16, activation=\"relu\"),\n",
        "    layers.Dense(16, activation=\"relu\"),\n",
        "    layers.Dense(1, activation=\"sigmoid\")\n",
        "])\n",
        "model.compile(optimizer=\"rmsprop\",\n",
        "              loss=\"binary_crossentropy\",\n",
        "              metrics=[\"accuracy\"])\n",
        "history_original = model.fit(train_data, train_labels,\n",
        "                             epochs=2, batch_size=512, validation_split=0.4)"
      ]
    },
    {
      "cell_type": "code",
      "execution_count": 11,
      "id": "24f9345a-1670-4b66-9c36-df3b976708ec",
      "metadata": {
        "colab": {
          "base_uri": "https://localhost:8080/"
        },
        "id": "24f9345a-1670-4b66-9c36-df3b976708ec",
        "outputId": "a39cfc89-2e7f-496e-f91a-82bd075e2f4a"
      },
      "outputs": [
        {
          "output_type": "stream",
          "name": "stdout",
          "text": [
            "Epoch 1/2\n",
            "30/30 [==============================] - 2s 40ms/step - loss: 0.6348 - accuracy: 0.6282 - val_loss: 0.5811 - val_accuracy: 0.7065\n",
            "Epoch 2/2\n",
            "30/30 [==============================] - 1s 31ms/step - loss: 0.5402 - accuracy: 0.7818 - val_loss: 0.5296 - val_accuracy: 0.7838\n"
          ]
        }
      ],
      "source": [
        "model = keras.Sequential([\n",
        "    layers.Dense(4, activation=\"relu\"),\n",
        "    layers.Dense(4, activation=\"relu\"),\n",
        "    layers.Dense(1, activation=\"sigmoid\")\n",
        "])\n",
        "model.compile(optimizer=\"rmsprop\",\n",
        "              loss=\"binary_crossentropy\",\n",
        "              metrics=[\"accuracy\"])\n",
        "history_smaller_model = model.fit(\n",
        "    train_data, train_labels,\n",
        "    epochs=2, batch_size=512, validation_split=0.4)"
      ]
    },
    {
      "cell_type": "code",
      "execution_count": 12,
      "id": "3fdfd892-c442-4cdf-a45d-f2232d3a0cb4",
      "metadata": {
        "colab": {
          "base_uri": "https://localhost:8080/"
        },
        "id": "3fdfd892-c442-4cdf-a45d-f2232d3a0cb4",
        "outputId": "f16d6136-6ddd-4ed6-cbf1-e41f03bec16f"
      },
      "outputs": [
        {
          "output_type": "stream",
          "name": "stdout",
          "text": [
            "Epoch 1/2\n",
            "30/30 [==============================] - 10s 303ms/step - loss: 0.5437 - accuracy: 0.7548 - val_loss: 0.2994 - val_accuracy: 0.8795\n",
            "Epoch 2/2\n",
            "30/30 [==============================] - 10s 331ms/step - loss: 0.2413 - accuracy: 0.9056 - val_loss: 0.3688 - val_accuracy: 0.8474\n"
          ]
        }
      ],
      "source": [
        "model = keras.Sequential([\n",
        "    layers.Dense(512, activation=\"relu\"),\n",
        "    layers.Dense(512, activation=\"relu\"),\n",
        "    layers.Dense(1, activation=\"sigmoid\")\n",
        "])\n",
        "model.compile(optimizer=\"rmsprop\",\n",
        "              loss=\"binary_crossentropy\",\n",
        "              metrics=[\"accuracy\"])\n",
        "history_larger_model = model.fit(\n",
        "    train_data, train_labels,\n",
        "    epochs=2, batch_size=512, validation_split=0.4)"
      ]
    },
    {
      "cell_type": "code",
      "execution_count": 13,
      "id": "737df3c4-1382-44ae-b05d-2c024636c36d",
      "metadata": {
        "colab": {
          "base_uri": "https://localhost:8080/"
        },
        "id": "737df3c4-1382-44ae-b05d-2c024636c36d",
        "outputId": "38bb74d7-ace7-43bc-9619-22d7d19f1ecb"
      },
      "outputs": [
        {
          "output_type": "stream",
          "name": "stdout",
          "text": [
            "Epoch 1/2\n",
            "30/30 [==============================] - 2s 48ms/step - loss: 0.5972 - accuracy: 0.7957 - val_loss: 0.4759 - val_accuracy: 0.8725\n",
            "Epoch 2/2\n",
            "30/30 [==============================] - 1s 34ms/step - loss: 0.4103 - accuracy: 0.8925 - val_loss: 0.3964 - val_accuracy: 0.8846\n"
          ]
        }
      ],
      "source": [
        "from tensorflow.keras import regularizers\n",
        "model = keras.Sequential([\n",
        "    layers.Dense(16,\n",
        "                 kernel_regularizer=regularizers.l2(0.002),\n",
        "                 activation=\"relu\"),\n",
        "    layers.Dense(16,\n",
        "                 kernel_regularizer=regularizers.l2(0.002),\n",
        "                 activation=\"relu\"),\n",
        "    layers.Dense(1, activation=\"sigmoid\")\n",
        "])\n",
        "model.compile(optimizer=\"rmsprop\",\n",
        "              loss=\"binary_crossentropy\",\n",
        "              metrics=[\"accuracy\"])\n",
        "history_l2_reg = model.fit(\n",
        "    train_data, train_labels,\n",
        "    epochs=2, batch_size=512, validation_split=0.4)"
      ]
    },
    {
      "cell_type": "code",
      "execution_count": 14,
      "id": "eb9457a5-18fa-498d-887e-7dd20fb2c577",
      "metadata": {
        "colab": {
          "base_uri": "https://localhost:8080/"
        },
        "id": "eb9457a5-18fa-498d-887e-7dd20fb2c577",
        "outputId": "0db41733-325a-44b5-9270-63aba250e244"
      },
      "outputs": [
        {
          "output_type": "execute_result",
          "data": {
            "text/plain": [
              "<keras.regularizers.L1L2 at 0x7fd55aab48d0>"
            ]
          },
          "metadata": {},
          "execution_count": 14
        }
      ],
      "source": [
        "from tensorflow.keras import regularizers\n",
        "regularizers.l1(0.001)\n",
        "regularizers.l1_l2(l1=0.001, l2=0.001)"
      ]
    },
    {
      "cell_type": "code",
      "execution_count": 15,
      "id": "309e9211-58c8-4dc1-87c2-664b8a5bca0e",
      "metadata": {
        "colab": {
          "base_uri": "https://localhost:8080/"
        },
        "id": "309e9211-58c8-4dc1-87c2-664b8a5bca0e",
        "outputId": "de334f12-be1b-48e6-cbdc-3383938021d4"
      },
      "outputs": [
        {
          "output_type": "stream",
          "name": "stdout",
          "text": [
            "Epoch 1/2\n",
            "30/30 [==============================] - 2s 42ms/step - loss: 0.6428 - accuracy: 0.6247 - val_loss: 0.5698 - val_accuracy: 0.7461\n",
            "Epoch 2/2\n",
            "30/30 [==============================] - 1s 34ms/step - loss: 0.5459 - accuracy: 0.7541 - val_loss: 0.4582 - val_accuracy: 0.8635\n"
          ]
        }
      ],
      "source": [
        "model = keras.Sequential([\n",
        "    layers.Dense(16, activation=\"relu\"),\n",
        "    layers.Dropout(0.5),\n",
        "    layers.Dense(16, activation=\"relu\"),\n",
        "    layers.Dropout(0.5),\n",
        "    layers.Dense(1, activation=\"sigmoid\")\n",
        "])\n",
        "model.compile(optimizer=\"rmsprop\",\n",
        "              loss=\"binary_crossentropy\",\n",
        "              metrics=[\"accuracy\"])\n",
        "history_dropout = model.fit(\n",
        "    train_data, train_labels,\n",
        "    epochs=2, batch_size=512, validation_split=0.4)"
      ]
    }
  ],
  "metadata": {
    "kernelspec": {
      "display_name": "Python 3 (ipykernel)",
      "language": "python",
      "name": "python3"
    },
    "language_info": {
      "codemirror_mode": {
        "name": "ipython",
        "version": 3
      },
      "file_extension": ".py",
      "mimetype": "text/x-python",
      "name": "python",
      "nbconvert_exporter": "python",
      "pygments_lexer": "ipython3",
      "version": "3.9.7"
    },
    "colab": {
      "provenance": [],
      "include_colab_link": true
    }
  },
  "nbformat": 4,
  "nbformat_minor": 5
}